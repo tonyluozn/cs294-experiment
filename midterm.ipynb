{
 "cells": [
  {
   "cell_type": "code",
   "execution_count": 2,
   "metadata": {},
   "outputs": [
    {
     "name": "stdout",
     "output_type": "stream",
     "text": [
      "Uncertainty: -1021.989577307477\n",
      "Surprise: -5.058893689053568\n"
     ]
    }
   ],
   "source": [
    "# Example in Chapter definition 4.10\n",
    "import math\n",
    "def calculate_uncertainty(probabilities, k):\n",
    "    uncertainty = k * sum(p * math.log2(p) for p in probabilities)\n",
    "    return uncertainty\n",
    "\n",
    "# Example usage\n",
    "probabilities = [0.7, 0.27, 0.03]\n",
    "k = 1000\n",
    "uncertainty = calculate_uncertainty(probabilities, k)\n",
    "print(\"Uncertainty:\", uncertainty)\n",
    "\n",
    "# surprise: individual uncertainty for event 3\n",
    "surprise = math.log2(probabilities[2])\n",
    "print(\"Surprise:\", surprise)\n",
    "\n",
    "\n"
   ]
  },
  {
   "cell_type": "code",
   "execution_count": 3,
   "metadata": {},
   "outputs": [
    {
     "name": "stdout",
     "output_type": "stream",
     "text": [
      "Uncertainty: -14854.752972273343\n"
     ]
    }
   ],
   "source": [
    "# Law 5.1\n",
    "\n",
    "probabilities = [0.5, 0.2, 0.3]\n",
    "k = 10000\n",
    "uncertainty = calculate_uncertainty(probabilities, k)\n",
    "print(\"Uncertainty:\", uncertainty)"
   ]
  }
 ],
 "metadata": {
  "kernelspec": {
   "display_name": "cs285",
   "language": "python",
   "name": "python3"
  },
  "language_info": {
   "codemirror_mode": {
    "name": "ipython",
    "version": 3
   },
   "file_extension": ".py",
   "mimetype": "text/x-python",
   "name": "python",
   "nbconvert_exporter": "python",
   "pygments_lexer": "ipython3",
   "version": "3.11.8"
  }
 },
 "nbformat": 4,
 "nbformat_minor": 2
}
